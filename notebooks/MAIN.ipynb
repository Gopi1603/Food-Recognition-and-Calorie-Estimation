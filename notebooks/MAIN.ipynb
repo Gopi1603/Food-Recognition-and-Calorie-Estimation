{
 "cells": [
  {
   "cell_type": "code",
   "execution_count": 1,
   "metadata": {
    "_cell_guid": "b1076dfc-b9ad-4769-8c92-a6c4dae69d19",
    "_uuid": "8f2839f25d086af736a60e9eeb907d3b93b6e0e5",
    "execution": {
     "iopub.execute_input": "2024-11-08T04:48:09.799562Z",
     "iopub.status.busy": "2024-11-08T04:48:09.798568Z",
     "iopub.status.idle": "2024-11-08T04:50:02.156824Z",
     "shell.execute_reply": "2024-11-08T04:50:02.155248Z",
     "shell.execute_reply.started": "2024-11-08T04:48:09.799510Z"
    },
    "trusted": true
   },
   "outputs": [
    {
     "name": "stdout",
     "output_type": "stream",
     "text": [
      "Collecting git+https://github.com/facebookresearch/detectron2.git\n",
      "  Cloning https://github.com/facebookresearch/detectron2.git to /tmp/pip-req-build-ou2t7m4l\n",
      "  Running command git clone --filter=blob:none --quiet https://github.com/facebookresearch/detectron2.git /tmp/pip-req-build-ou2t7m4l\n",
      "  Resolved https://github.com/facebookresearch/detectron2.git to commit 9131ce0e5bc0c89904541bc0355d933ccd6acbfb\n",
      "  Preparing metadata (setup.py) ... \u001b[?25ldone\n",
      "\u001b[?25hRequirement already satisfied: Pillow>=7.1 in /opt/conda/lib/python3.10/site-packages (from detectron2==0.6) (10.3.0)\n",
      "Requirement already satisfied: matplotlib in /opt/conda/lib/python3.10/site-packages (from detectron2==0.6) (3.7.5)\n",
      "Collecting pycocotools>=2.0.2 (from detectron2==0.6)\n",
      "  Downloading pycocotools-2.0.8-cp310-cp310-manylinux_2_17_x86_64.manylinux2014_x86_64.whl.metadata (1.1 kB)\n",
      "Requirement already satisfied: termcolor>=1.1 in /opt/conda/lib/python3.10/site-packages (from detectron2==0.6) (2.4.0)\n",
      "Collecting yacs>=0.1.8 (from detectron2==0.6)\n",
      "  Downloading yacs-0.1.8-py3-none-any.whl.metadata (639 bytes)\n",
      "Requirement already satisfied: tabulate in /opt/conda/lib/python3.10/site-packages (from detectron2==0.6) (0.9.0)\n",
      "Requirement already satisfied: cloudpickle in /opt/conda/lib/python3.10/site-packages (from detectron2==0.6) (3.0.0)\n",
      "Requirement already satisfied: tqdm>4.29.0 in /opt/conda/lib/python3.10/site-packages (from detectron2==0.6) (4.66.4)\n",
      "Requirement already satisfied: tensorboard in /opt/conda/lib/python3.10/site-packages (from detectron2==0.6) (2.16.2)\n",
      "Collecting fvcore<0.1.6,>=0.1.5 (from detectron2==0.6)\n",
      "  Downloading fvcore-0.1.5.post20221221.tar.gz (50 kB)\n",
      "\u001b[2K     \u001b[90m━━━━━━━━━━━━━━━━━━━━━━━━━━━━━━━━━━━━━━━━\u001b[0m \u001b[32m50.2/50.2 kB\u001b[0m \u001b[31m1.5 MB/s\u001b[0m eta \u001b[36m0:00:00\u001b[0m\n",
      "\u001b[?25h  Preparing metadata (setup.py) ... \u001b[?25ldone\n",
      "\u001b[?25hCollecting iopath<0.1.10,>=0.1.7 (from detectron2==0.6)\n",
      "  Downloading iopath-0.1.9-py3-none-any.whl.metadata (370 bytes)\n",
      "Collecting omegaconf<2.4,>=2.1 (from detectron2==0.6)\n",
      "  Downloading omegaconf-2.3.0-py3-none-any.whl.metadata (3.9 kB)\n",
      "Collecting hydra-core>=1.1 (from detectron2==0.6)\n",
      "  Downloading hydra_core-1.3.2-py3-none-any.whl.metadata (5.5 kB)\n",
      "Collecting black (from detectron2==0.6)\n",
      "  Downloading black-24.10.0-cp310-cp310-manylinux_2_17_x86_64.manylinux2014_x86_64.manylinux_2_28_x86_64.whl.metadata (79 kB)\n",
      "\u001b[2K     \u001b[90m━━━━━━━━━━━━━━━━━━━━━━━━━━━━━━━━━━━━━━━━\u001b[0m \u001b[32m79.2/79.2 kB\u001b[0m \u001b[31m2.9 MB/s\u001b[0m eta \u001b[36m0:00:00\u001b[0m\n",
      "\u001b[?25hRequirement already satisfied: packaging in /opt/conda/lib/python3.10/site-packages (from detectron2==0.6) (21.3)\n",
      "Requirement already satisfied: numpy in /opt/conda/lib/python3.10/site-packages (from fvcore<0.1.6,>=0.1.5->detectron2==0.6) (1.26.4)\n",
      "Requirement already satisfied: pyyaml>=5.1 in /opt/conda/lib/python3.10/site-packages (from fvcore<0.1.6,>=0.1.5->detectron2==0.6) (6.0.2)\n",
      "Collecting antlr4-python3-runtime==4.9.* (from hydra-core>=1.1->detectron2==0.6)\n",
      "  Downloading antlr4-python3-runtime-4.9.3.tar.gz (117 kB)\n",
      "\u001b[2K     \u001b[90m━━━━━━━━━━━━━━━━━━━━━━━━━━━━━━━━━━━━━━━\u001b[0m \u001b[32m117.0/117.0 kB\u001b[0m \u001b[31m6.3 MB/s\u001b[0m eta \u001b[36m0:00:00\u001b[0m\n",
      "\u001b[?25h  Preparing metadata (setup.py) ... \u001b[?25ldone\n",
      "\u001b[?25hCollecting portalocker (from iopath<0.1.10,>=0.1.7->detectron2==0.6)\n",
      "  Downloading portalocker-2.10.1-py3-none-any.whl.metadata (8.5 kB)\n",
      "Requirement already satisfied: contourpy>=1.0.1 in /opt/conda/lib/python3.10/site-packages (from matplotlib->detectron2==0.6) (1.2.1)\n",
      "Requirement already satisfied: cycler>=0.10 in /opt/conda/lib/python3.10/site-packages (from matplotlib->detectron2==0.6) (0.12.1)\n",
      "Requirement already satisfied: fonttools>=4.22.0 in /opt/conda/lib/python3.10/site-packages (from matplotlib->detectron2==0.6) (4.53.0)\n",
      "Requirement already satisfied: kiwisolver>=1.0.1 in /opt/conda/lib/python3.10/site-packages (from matplotlib->detectron2==0.6) (1.4.5)\n",
      "Requirement already satisfied: pyparsing>=2.3.1 in /opt/conda/lib/python3.10/site-packages (from matplotlib->detectron2==0.6) (3.1.2)\n",
      "Requirement already satisfied: python-dateutil>=2.7 in /opt/conda/lib/python3.10/site-packages (from matplotlib->detectron2==0.6) (2.9.0.post0)\n",
      "Requirement already satisfied: click>=8.0.0 in /opt/conda/lib/python3.10/site-packages (from black->detectron2==0.6) (8.1.7)\n",
      "Requirement already satisfied: mypy-extensions>=0.4.3 in /opt/conda/lib/python3.10/site-packages (from black->detectron2==0.6) (1.0.0)\n",
      "Collecting packaging (from detectron2==0.6)\n",
      "  Downloading packaging-24.1-py3-none-any.whl.metadata (3.2 kB)\n",
      "Collecting pathspec>=0.9.0 (from black->detectron2==0.6)\n",
      "  Downloading pathspec-0.12.1-py3-none-any.whl.metadata (21 kB)\n",
      "Requirement already satisfied: platformdirs>=2 in /opt/conda/lib/python3.10/site-packages (from black->detectron2==0.6) (3.11.0)\n",
      "Requirement already satisfied: tomli>=1.1.0 in /opt/conda/lib/python3.10/site-packages (from black->detectron2==0.6) (2.0.1)\n",
      "Requirement already satisfied: typing-extensions>=4.0.1 in /opt/conda/lib/python3.10/site-packages (from black->detectron2==0.6) (4.12.2)\n",
      "Requirement already satisfied: absl-py>=0.4 in /opt/conda/lib/python3.10/site-packages (from tensorboard->detectron2==0.6) (1.4.0)\n",
      "Requirement already satisfied: grpcio>=1.48.2 in /opt/conda/lib/python3.10/site-packages (from tensorboard->detectron2==0.6) (1.64.1)\n",
      "Requirement already satisfied: markdown>=2.6.8 in /opt/conda/lib/python3.10/site-packages (from tensorboard->detectron2==0.6) (3.6)\n",
      "Requirement already satisfied: protobuf!=4.24.0,>=3.19.6 in /opt/conda/lib/python3.10/site-packages (from tensorboard->detectron2==0.6) (3.20.3)\n",
      "Requirement already satisfied: setuptools>=41.0.0 in /opt/conda/lib/python3.10/site-packages (from tensorboard->detectron2==0.6) (70.0.0)\n",
      "Requirement already satisfied: six>1.9 in /opt/conda/lib/python3.10/site-packages (from tensorboard->detectron2==0.6) (1.16.0)\n",
      "Requirement already satisfied: tensorboard-data-server<0.8.0,>=0.7.0 in /opt/conda/lib/python3.10/site-packages (from tensorboard->detectron2==0.6) (0.7.2)\n",
      "Requirement already satisfied: werkzeug>=1.0.1 in /opt/conda/lib/python3.10/site-packages (from tensorboard->detectron2==0.6) (3.0.4)\n",
      "Requirement already satisfied: MarkupSafe>=2.1.1 in /opt/conda/lib/python3.10/site-packages (from werkzeug>=1.0.1->tensorboard->detectron2==0.6) (2.1.5)\n",
      "Downloading hydra_core-1.3.2-py3-none-any.whl (154 kB)\n",
      "\u001b[2K   \u001b[90m━━━━━━━━━━━━━━━━━━━━━━━━━━━━━━━━━━━━━━━━\u001b[0m \u001b[32m154.5/154.5 kB\u001b[0m \u001b[31m8.2 MB/s\u001b[0m eta \u001b[36m0:00:00\u001b[0m\n",
      "\u001b[?25hDownloading iopath-0.1.9-py3-none-any.whl (27 kB)\n",
      "Downloading omegaconf-2.3.0-py3-none-any.whl (79 kB)\n",
      "\u001b[2K   \u001b[90m━━━━━━━━━━━━━━━━━━━━━━━━━━━━━━━━━━━━━━━━\u001b[0m \u001b[32m79.5/79.5 kB\u001b[0m \u001b[31m4.7 MB/s\u001b[0m eta \u001b[36m0:00:00\u001b[0m\n",
      "\u001b[?25hDownloading pycocotools-2.0.8-cp310-cp310-manylinux_2_17_x86_64.manylinux2014_x86_64.whl (427 kB)\n",
      "\u001b[2K   \u001b[90m━━━━━━━━━━━━━━━━━━━━━━━━━━━━━━━━━━━━━━━━\u001b[0m \u001b[32m427.8/427.8 kB\u001b[0m \u001b[31m12.9 MB/s\u001b[0m eta \u001b[36m0:00:00\u001b[0m\n",
      "\u001b[?25hDownloading yacs-0.1.8-py3-none-any.whl (14 kB)\n",
      "Downloading black-24.10.0-cp310-cp310-manylinux_2_17_x86_64.manylinux2014_x86_64.manylinux_2_28_x86_64.whl (1.8 MB)\n",
      "\u001b[2K   \u001b[90m━━━━━━━━━━━━━━━━━━━━━━━━━━━━━━━━━━━━━━━━\u001b[0m \u001b[32m1.8/1.8 MB\u001b[0m \u001b[31m43.8 MB/s\u001b[0m eta \u001b[36m0:00:00\u001b[0m00:01\u001b[0m\n",
      "\u001b[?25hDownloading packaging-24.1-py3-none-any.whl (53 kB)\n",
      "\u001b[2K   \u001b[90m━━━━━━━━━━━━━━━━━━━━━━━━━━━━━━━━━━━━━━━━\u001b[0m \u001b[32m54.0/54.0 kB\u001b[0m \u001b[31m2.7 MB/s\u001b[0m eta \u001b[36m0:00:00\u001b[0m\n",
      "\u001b[?25hDownloading pathspec-0.12.1-py3-none-any.whl (31 kB)\n",
      "Downloading portalocker-2.10.1-py3-none-any.whl (18 kB)\n",
      "Building wheels for collected packages: detectron2, fvcore, antlr4-python3-runtime\n",
      "  Building wheel for detectron2 (setup.py) ... \u001b[?25ldone\n",
      "\u001b[?25h  Created wheel for detectron2: filename=detectron2-0.6-cp310-cp310-linux_x86_64.whl size=903679 sha256=7979316dd958f8dc8ea01b9bee7935fdeabfcdcd852deded9235d27ad9320be7\n",
      "  Stored in directory: /tmp/pip-ephem-wheel-cache-ofxgxtkm/wheels/47/e5/15/94c80df2ba85500c5d76599cc307c0a7079d0e221bb6fc4375\n",
      "  Building wheel for fvcore (setup.py) ... \u001b[?25ldone\n",
      "\u001b[?25h  Created wheel for fvcore: filename=fvcore-0.1.5.post20221221-py3-none-any.whl size=61400 sha256=b2c74ad01bc9e6dce21f5335ae58a99ad4cb90f2e5862b7dced61f409d55fa44\n",
      "  Stored in directory: /root/.cache/pip/wheels/01/c0/af/77c1cf53a1be9e42a52b48e5af2169d40ec2e89f7362489dd0\n",
      "  Building wheel for antlr4-python3-runtime (setup.py) ... \u001b[?25ldone\n",
      "\u001b[?25h  Created wheel for antlr4-python3-runtime: filename=antlr4_python3_runtime-4.9.3-py3-none-any.whl size=144554 sha256=e64e48819d480d220cc26c02dc4249979ef4295635765798de0532dbbfd5c41d\n",
      "  Stored in directory: /root/.cache/pip/wheels/12/93/dd/1f6a127edc45659556564c5730f6d4e300888f4bca2d4c5a88\n",
      "Successfully built detectron2 fvcore antlr4-python3-runtime\n",
      "Installing collected packages: antlr4-python3-runtime, yacs, portalocker, pathspec, packaging, omegaconf, iopath, hydra-core, black, pycocotools, fvcore, detectron2\n",
      "  Attempting uninstall: packaging\n",
      "    Found existing installation: packaging 21.3\n",
      "    Uninstalling packaging-21.3:\n",
      "      Successfully uninstalled packaging-21.3\n",
      "\u001b[31mERROR: pip's dependency resolver does not currently take into account all the packages that are installed. This behaviour is the source of the following dependency conflicts.\n",
      "google-cloud-bigquery 2.34.4 requires packaging<22.0dev,>=14.3, but you have packaging 24.1 which is incompatible.\n",
      "jupyterlab 4.2.5 requires jupyter-lsp>=2.0.0, but you have jupyter-lsp 1.5.1 which is incompatible.\n",
      "jupyterlab-lsp 5.1.0 requires jupyter-lsp>=2.0.0, but you have jupyter-lsp 1.5.1 which is incompatible.\n",
      "libpysal 4.9.2 requires shapely>=2.0.1, but you have shapely 1.8.5.post1 which is incompatible.\n",
      "thinc 8.3.2 requires numpy<2.1.0,>=2.0.0; python_version >= \"3.9\", but you have numpy 1.26.4 which is incompatible.\n",
      "ydata-profiling 4.10.0 requires scipy<1.14,>=1.4.1, but you have scipy 1.14.1 which is incompatible.\u001b[0m\u001b[31m\n",
      "\u001b[0mSuccessfully installed antlr4-python3-runtime-4.9.3 black-24.10.0 detectron2-0.6 fvcore-0.1.5.post20221221 hydra-core-1.3.2 iopath-0.1.9 omegaconf-2.3.0 packaging-24.1 pathspec-0.12.1 portalocker-2.10.1 pycocotools-2.0.8 yacs-0.1.8\n"
     ]
    }
   ],
   "source": [
    "import torch\n",
    "from transformers import ViTForImageClassification, ViTFeatureExtractor\n",
    "from torchvision import datasets, transforms\n",
    "import cv2\n",
    "# Install detectron2 on Kaggle\n",
    "!pip install 'git+https://github.com/facebookresearch/detectron2.git'\n",
    "\n",
    "from detectron2.engine import DefaultPredictor\n",
    "from detectron2.config import get_cfg\n",
    "from detectron2 import model_zoo\n",
    "from detectron2.utils.visualizer import Visualizer\n",
    "import numpy as np\n",
    "import pandas as pd\n",
    "from PIL import Image\n",
    "import os"
   ]
  },
  {
   "cell_type": "code",
   "execution_count": 2,
   "metadata": {
    "execution": {
     "iopub.execute_input": "2024-11-08T04:52:53.614802Z",
     "iopub.status.busy": "2024-11-08T04:52:53.612744Z",
     "iopub.status.idle": "2024-11-08T04:52:53.621781Z",
     "shell.execute_reply": "2024-11-08T04:52:53.620373Z",
     "shell.execute_reply.started": "2024-11-08T04:52:53.614743Z"
    },
    "trusted": true
   },
   "outputs": [],
   "source": [
    "\n",
    "# Improved true labels and predicted scores\n",
    "true_labels = np.array([0, 0, 1, 1, 0, 1, 1, 0, 1, 1, 0, 1])  # Ground truth (0 or 1)\n",
    "predicted_scores = np.array([0.1, 0.3, 0.8, 0.9, 0.4, 0.85, 0.95, 0.2, 0.7, 0.6, 0.3, 0.8])  # Model's predicted probabilities"
   ]
  },
  {
   "cell_type": "code",
   "execution_count": 3,
   "metadata": {
    "execution": {
     "iopub.execute_input": "2024-11-08T04:52:58.682414Z",
     "iopub.status.busy": "2024-11-08T04:52:58.681964Z",
     "iopub.status.idle": "2024-11-08T04:52:58.689109Z",
     "shell.execute_reply": "2024-11-08T04:52:58.687561Z",
     "shell.execute_reply.started": "2024-11-08T04:52:58.682369Z"
    },
    "trusted": true
   },
   "outputs": [],
   "source": [
    "\n",
    "device = torch.device(\"cuda\" if torch.cuda.is_available() else \"cpu\")"
   ]
  },
  {
   "cell_type": "code",
   "execution_count": 4,
   "metadata": {
    "execution": {
     "iopub.execute_input": "2024-11-08T04:53:02.880013Z",
     "iopub.status.busy": "2024-11-08T04:53:02.879544Z",
     "iopub.status.idle": "2024-11-08T04:53:02.887300Z",
     "shell.execute_reply": "2024-11-08T04:53:02.885766Z",
     "shell.execute_reply.started": "2024-11-08T04:53:02.879969Z"
    },
    "trusted": true
   },
   "outputs": [],
   "source": [
    "\n",
    "# Example true sizes (replace with your actual data)\n",
    "true_sizes = np.array([\"Small\", \"Medium\", \"Large\", \"Medium\", \"Small\", \"Large\", \"Serving\", \"Medium\"])\n",
    "\n",
    "# Example predicted sizes (replace with your model's predictions)\n",
    "predicted_sizes = np.array([\"Small\", \"Medium\", \"Large\", \"Small\", \"Small\", \"Large\", \"Serving\", \"Medium\"])\n",
    "\n",
    "# Define portion categories\n",
    "portion_categories = [\"Small\", \"Medium\", \"Large\", \"Serving\"]"
   ]
  },
  {
   "cell_type": "code",
   "execution_count": 5,
   "metadata": {
    "execution": {
     "iopub.execute_input": "2024-11-08T04:53:08.559988Z",
     "iopub.status.busy": "2024-11-08T04:53:08.559557Z",
     "iopub.status.idle": "2024-11-08T04:53:09.734097Z",
     "shell.execute_reply": "2024-11-08T04:53:09.732767Z",
     "shell.execute_reply.started": "2024-11-08T04:53:08.559950Z"
    },
    "trusted": true
   },
   "outputs": [
    {
     "data": {
      "application/vnd.jupyter.widget-view+json": {
       "model_id": "eb4d5e97ac2f46a0bb6417e05ff50eb3",
       "version_major": 2,
       "version_minor": 0
      },
      "text/plain": [
       "preprocessor_config.json:   0%|          | 0.00/160 [00:00<?, ?B/s]"
      ]
     },
     "metadata": {},
     "output_type": "display_data"
    },
    {
     "name": "stderr",
     "output_type": "stream",
     "text": [
      "/opt/conda/lib/python3.10/site-packages/transformers/models/vit/feature_extraction_vit.py:28: FutureWarning: The class ViTFeatureExtractor is deprecated and will be removed in version 5 of Transformers. Please use ViTImageProcessor instead.\n",
      "  warnings.warn(\n"
     ]
    }
   ],
   "source": [
    "\n",
    "feature_extractor = ViTFeatureExtractor.from_pretrained('google/vit-base-patch16-224')"
   ]
  },
  {
   "cell_type": "code",
   "execution_count": 28,
   "metadata": {
    "execution": {
     "iopub.execute_input": "2024-11-08T05:34:18.219679Z",
     "iopub.status.busy": "2024-11-08T05:34:18.218066Z",
     "iopub.status.idle": "2024-11-08T05:34:22.594031Z",
     "shell.execute_reply": "2024-11-08T05:34:22.592660Z",
     "shell.execute_reply.started": "2024-11-08T05:34:18.219601Z"
    },
    "trusted": true
   },
   "outputs": [
    {
     "data": {
      "application/vnd.jupyter.widget-view+json": {
       "model_id": "72a65829f2794eec810c0dbe61be39fc",
       "version_major": 2,
       "version_minor": 0
      },
      "text/plain": [
       "config.json:   0%|          | 0.00/69.7k [00:00<?, ?B/s]"
      ]
     },
     "metadata": {},
     "output_type": "display_data"
    },
    {
     "data": {
      "application/vnd.jupyter.widget-view+json": {
       "model_id": "a3ecb83d331b49d981841a000c81f1a5",
       "version_major": 2,
       "version_minor": 0
      },
      "text/plain": [
       "model.safetensors:   0%|          | 0.00/346M [00:00<?, ?B/s]"
      ]
     },
     "metadata": {},
     "output_type": "display_data"
    },
    {
     "name": "stderr",
     "output_type": "stream",
     "text": [
      "/opt/conda/lib/python3.10/site-packages/transformers/models/vit/feature_extraction_vit.py:28: FutureWarning: The class ViTFeatureExtractor is deprecated and will be removed in version 5 of Transformers. Please use ViTImageProcessor instead.\n",
      "  warnings.warn(\n"
     ]
    }
   ],
   "source": [
    "# Load the pre-trained ViT model and feature extractor\n",
    "vit_model = ViTForImageClassification.from_pretrained('google/vit-base-patch16-224').to(device)\n",
    "feature_extractor = ViTFeatureExtractor.from_pretrained('google/vit-base-patch16-224')\n"
   ]
  },
  {
   "cell_type": "code",
   "execution_count": 6,
   "metadata": {
    "execution": {
     "iopub.execute_input": "2024-11-08T04:53:49.009623Z",
     "iopub.status.busy": "2024-11-08T04:53:49.009130Z",
     "iopub.status.idle": "2024-11-08T04:53:50.136995Z",
     "shell.execute_reply": "2024-11-08T04:53:50.135607Z",
     "shell.execute_reply.started": "2024-11-08T04:53:49.009571Z"
    },
    "trusted": true
   },
   "outputs": [],
   "source": [
    "from transformers import ViTForImageClassification, ViTFeatureExtractor\n",
    "\n",
    "# Define the model directory\n",
    "model_dir = '/kaggle/input/input1/ViT_fine_tuned_food_recognition'\n",
    "\n",
    "# Load the fine-tuned ViT model and feature extractor\n",
    "vit_model = ViTForImageClassification.from_pretrained(model_dir).to(device)\n",
    "feature_extractor = ViTFeatureExtractor.from_pretrained('google/vit-base-patch16-224')\n",
    "\n",
    "# Now you can continue with your image classification as before\n"
   ]
  },
  {
   "cell_type": "code",
   "execution_count": 30,
   "metadata": {
    "execution": {
     "iopub.execute_input": "2024-11-08T05:34:51.719551Z",
     "iopub.status.busy": "2024-11-08T05:34:51.719072Z",
     "iopub.status.idle": "2024-11-08T05:34:51.728032Z",
     "shell.execute_reply": "2024-11-08T05:34:51.726720Z",
     "shell.execute_reply.started": "2024-11-08T05:34:51.719502Z"
    },
    "trusted": true
   },
   "outputs": [],
   "source": [
    "\n",
    "# Load and preprocess the image\n",
    "def preprocess_image(image_path):\n",
    "    image = Image.open(image_path).convert(\"RGB\")\n",
    "    inputs = feature_extractor(images=image, return_tensors=\"pt\").to(device)\n",
    "    return inputs\n",
    "\n",
    "# Predict the food name from the image using the pre-trained model\n",
    "def predict_food_name(image_path):\n",
    "    # Preprocess the image\n",
    "    inputs = preprocess_image(image_path)\n",
    "    \n",
    "    # Forward pass through the model\n",
    "    with torch.no_grad():\n",
    "        outputs = vit_model(**inputs)\n",
    "    \n",
    "    # Get the predicted class\n",
    "    predicted_class = outputs.logits.argmax(-1).item()\n",
    "    \n",
    "    # Retrieve the corresponding label from the pre-trained model's class labels\n",
    "    food_name = vit_model.config.id2label.get(predicted_class, \"Unknown\")\n",
    "    \n",
    "    return food_name"
   ]
  },
  {
   "cell_type": "code",
   "execution_count": 25,
   "metadata": {
    "execution": {
     "iopub.execute_input": "2024-11-08T05:03:56.630087Z",
     "iopub.status.busy": "2024-11-08T05:03:56.629495Z",
     "iopub.status.idle": "2024-11-08T05:03:56.654157Z",
     "shell.execute_reply": "2024-11-08T05:03:56.653008Z",
     "shell.execute_reply.started": "2024-11-08T05:03:56.630020Z"
    },
    "trusted": true
   },
   "outputs": [],
   "source": [
    "image_path = '/kaggle/input/newfood/test_000001.jpg'\n",
    "image = Image.open(image_path)\n",
    "inputs = feature_extractor(images=image, return_tensors=\"pt\").to(device)"
   ]
  },
  {
   "cell_type": "code",
   "execution_count": null,
   "metadata": {},
   "outputs": [],
   "source": [
    "image_path = '/kaggle/input/input1/test_000022.jpg'\n",
    "image = Image.open(image_path)\n",
    "inputs = feature_extractor(images=image, return_tensors=\"pt\").to(device)"
   ]
  },
  {
   "cell_type": "code",
   "execution_count": 26,
   "metadata": {
    "execution": {
     "iopub.execute_input": "2024-11-08T05:04:01.131078Z",
     "iopub.status.busy": "2024-11-08T05:04:01.130615Z",
     "iopub.status.idle": "2024-11-08T05:04:01.534005Z",
     "shell.execute_reply": "2024-11-08T05:04:01.532858Z",
     "shell.execute_reply.started": "2024-11-08T05:04:01.131032Z"
    },
    "trusted": true
   },
   "outputs": [],
   "source": [
    "vit_model.eval()\n",
    "with torch.no_grad():\n",
    "    logits = vit_model(**inputs).logits\n",
    "    predicted_class = logits.argmax(-1).item()"
   ]
  },
  {
   "cell_type": "code",
   "execution_count": 27,
   "metadata": {
    "execution": {
     "iopub.execute_input": "2024-11-08T05:04:05.179656Z",
     "iopub.status.busy": "2024-11-08T05:04:05.179178Z",
     "iopub.status.idle": "2024-11-08T05:04:05.193249Z",
     "shell.execute_reply": "2024-11-08T05:04:05.192040Z",
     "shell.execute_reply.started": "2024-11-08T05:04:05.179600Z"
    },
    "trusted": true
   },
   "outputs": [
    {
     "name": "stdout",
     "output_type": "stream",
     "text": [
      "Predicted Food Class: Carrot Cake\n"
     ]
    }
   ],
   "source": [
    "# Load the food estimates CSV file\n",
    "food_estimates_df = pd.read_csv('/kaggle/input/food251x/food_estimates.csv')\n",
    "\n",
    "# Create a class dictionary mapping indices to food class names\n",
    "class_dict = {index: row._1 for index, row in enumerate(food_estimates_df.itertuples())}\n",
    "\n",
    "# Now you can use class_dict to get the predicted class name\n",
    "predicted_class_name = class_dict.get(predicted_class, \"Unknown Class\")\n",
    "print(f\"Predicted Food Class: {predicted_class_name}\")\n"
   ]
  },
  {
   "cell_type": "code",
   "execution_count": 12,
   "metadata": {
    "execution": {
     "iopub.execute_input": "2024-11-08T04:59:46.349702Z",
     "iopub.status.busy": "2024-11-08T04:59:46.349251Z",
     "iopub.status.idle": "2024-11-08T04:59:46.358624Z",
     "shell.execute_reply": "2024-11-08T04:59:46.357389Z",
     "shell.execute_reply.started": "2024-11-08T04:59:46.349657Z"
    },
    "trusted": true
   },
   "outputs": [],
   "source": [
    "food_estimates_df = pd.read_csv('/kaggle/input/food251x/food_estimates.csv')"
   ]
  },
  {
   "cell_type": "code",
   "execution_count": 13,
   "metadata": {
    "execution": {
     "iopub.execute_input": "2024-11-08T04:59:49.492657Z",
     "iopub.status.busy": "2024-11-08T04:59:49.492133Z",
     "iopub.status.idle": "2024-11-08T04:59:49.535185Z",
     "shell.execute_reply": "2024-11-08T04:59:49.533846Z",
     "shell.execute_reply.started": "2024-11-08T04:59:49.492561Z"
    },
    "trusted": true
   },
   "outputs": [],
   "source": [
    "calories_per_gram = {}\n",
    "for _, row in food_estimates_df.iterrows():\n",
    "    food_class = row['Predicted Food Class']\n",
    "    estimated_portion_size = float(row['Estimated Portion Size'].split()[0])  # Extract grams\n",
    "    calories = float(''.join(filter(str.isdigit, row['Estimated Calories'])))\n",
    "    calories_per_gram[food_class] = calories / estimated_portion_size "
   ]
  },
  {
   "cell_type": "code",
   "execution_count": 14,
   "metadata": {
    "execution": {
     "iopub.execute_input": "2024-11-08T04:59:52.889692Z",
     "iopub.status.busy": "2024-11-08T04:59:52.888548Z",
     "iopub.status.idle": "2024-11-08T04:59:52.897014Z",
     "shell.execute_reply": "2024-11-08T04:59:52.895544Z",
     "shell.execute_reply.started": "2024-11-08T04:59:52.889628Z"
    },
    "trusted": true
   },
   "outputs": [
    {
     "name": "stdout",
     "output_type": "stream",
     "text": [
      "Calories per gram for Pork Chop: 2.10 kcal/gram\n"
     ]
    }
   ],
   "source": [
    "calories_per_gram_for_class = calories_per_gram.get(predicted_class_name, 0)\n",
    "print(f\"Calories per gram for {predicted_class_name}: {calories_per_gram_for_class:.2f} kcal/gram\")"
   ]
  },
  {
   "cell_type": "code",
   "execution_count": 15,
   "metadata": {
    "execution": {
     "iopub.execute_input": "2024-11-08T04:59:56.228775Z",
     "iopub.status.busy": "2024-11-08T04:59:56.228161Z",
     "iopub.status.idle": "2024-11-08T04:59:56.235284Z",
     "shell.execute_reply": "2024-11-08T04:59:56.233979Z",
     "shell.execute_reply.started": "2024-11-08T04:59:56.228726Z"
    },
    "trusted": true
   },
   "outputs": [
    {
     "name": "stdout",
     "output_type": "stream",
     "text": [
      "Calories per gram for Pork Chop: 2.10 kcal/gram\n"
     ]
    }
   ],
   "source": [
    "calories_per_gram_for_class = calories_per_gram.get(predicted_class_name, 0)\n",
    "print(f\"Calories per gram for {predicted_class_name}: {calories_per_gram_for_class:.2f} kcal/gram\")\n"
   ]
  },
  {
   "cell_type": "code",
   "execution_count": 16,
   "metadata": {
    "execution": {
     "iopub.execute_input": "2024-11-08T04:59:59.412802Z",
     "iopub.status.busy": "2024-11-08T04:59:59.412313Z",
     "iopub.status.idle": "2024-11-08T04:59:59.440154Z",
     "shell.execute_reply": "2024-11-08T04:59:59.438914Z",
     "shell.execute_reply.started": "2024-11-08T04:59:59.412757Z"
    },
    "trusted": true
   },
   "outputs": [],
   "source": [
    "cfg = get_cfg()\n",
    "cfg.merge_from_file(model_zoo.get_config_file(\"COCO-InstanceSegmentation/mask_rcnn_R_50_FPN_3x.yaml\"))\n",
    "cfg.MODEL.WEIGHTS = model_zoo.get_checkpoint_url(\"COCO-InstanceSegmentation/mask_rcnn_R_50_FPN_3x.yaml\")\n",
    "cfg.MODEL.DEVICE = str(device)  # Convert device to string\n",
    "cfg.MODEL.ROI_HEADS.SCORE_THRESH_TEST = 0.5\n"
   ]
  },
  {
   "cell_type": "code",
   "execution_count": 17,
   "metadata": {
    "execution": {
     "iopub.execute_input": "2024-11-08T05:00:02.709344Z",
     "iopub.status.busy": "2024-11-08T05:00:02.708916Z",
     "iopub.status.idle": "2024-11-08T05:00:11.878828Z",
     "shell.execute_reply": "2024-11-08T05:00:11.877471Z",
     "shell.execute_reply.started": "2024-11-08T05:00:02.709303Z"
    },
    "trusted": true
   },
   "outputs": [
    {
     "name": "stderr",
     "output_type": "stream",
     "text": [
      "model_final_f10217.pkl: 178MB [00:02, 63.8MB/s]                              \n",
      "/opt/conda/lib/python3.10/site-packages/torch/functional.py:513: UserWarning: torch.meshgrid: in an upcoming release, it will be required to pass the indexing argument. (Triggered internally at ../aten/src/ATen/native/TensorShape.cpp:3609.)\n",
      "  return _VF.meshgrid(tensors, **kwargs)  # type: ignore[attr-defined]\n"
     ]
    },
    {
     "name": "stdout",
     "output_type": "stream",
     "text": [
      "{'instances': Instances(num_instances=1, image_height=256, image_width=469, fields=[pred_boxes: Boxes(tensor([[ 84.7376,  31.7596, 387.7053, 240.0112]])), scores: tensor([0.9659]), pred_classes: tensor([52]), pred_masks: tensor([[[False, False, False,  ..., False, False, False],\n",
      "         [False, False, False,  ..., False, False, False],\n",
      "         [False, False, False,  ..., False, False, False],\n",
      "         ...,\n",
      "         [False, False, False,  ..., False, False, False],\n",
      "         [False, False, False,  ..., False, False, False],\n",
      "         [False, False, False,  ..., False, False, False]]])])}\n"
     ]
    }
   ],
   "source": [
    "import torch\n",
    "from detectron2.engine import DefaultPredictor\n",
    "from detectron2.config import get_cfg\n",
    "from detectron2 import model_zoo\n",
    "\n",
    "# Set device\n",
    "device = torch.device(\"cuda\" if torch.cuda.is_available() else \"cpu\")\n",
    "\n",
    "# Create configuration\n",
    "cfg = get_cfg()\n",
    "cfg.merge_from_file(model_zoo.get_config_file(\"COCO-InstanceSegmentation/mask_rcnn_R_50_FPN_3x.yaml\"))\n",
    "cfg.MODEL.WEIGHTS = model_zoo.get_checkpoint_url(\"COCO-InstanceSegmentation/mask_rcnn_R_50_FPN_3x.yaml\")\n",
    "cfg.MODEL.DEVICE = str(device)  # Convert device to string\n",
    "cfg.MODEL.ROI_HEADS.SCORE_THRESH_TEST = 0.5  # Set threshold for this model\n",
    "\n",
    "# Create a predictor\n",
    "predictor = DefaultPredictor(cfg)\n",
    "\n",
    "# Example usage: Make predictions on an image\n",
    "image_path = '/kaggle/input/input1/test_000022.jpg'  # Replace with your image path\n",
    "image = cv2.imread(image_path)  # Read the image using OpenCV\n",
    "outputs = predictor(image)  # Get predictions\n",
    "\n",
    "# Outputs can be processed further\n",
    "print(outputs)\n"
   ]
  },
  {
   "cell_type": "code",
   "execution_count": 19,
   "metadata": {
    "execution": {
     "iopub.execute_input": "2024-11-08T05:00:20.414184Z",
     "iopub.status.busy": "2024-11-08T05:00:20.413740Z",
     "iopub.status.idle": "2024-11-08T05:00:20.419471Z",
     "shell.execute_reply": "2024-11-08T05:00:20.418380Z",
     "shell.execute_reply.started": "2024-11-08T05:00:20.414140Z"
    },
    "trusted": true
   },
   "outputs": [],
   "source": [
    "pixel_to_gram_ratio = 100 / 10000  # Example: 100g = 10,000 pixels"
   ]
  },
  {
   "cell_type": "code",
   "execution_count": 20,
   "metadata": {
    "execution": {
     "iopub.execute_input": "2024-11-08T05:00:24.763827Z",
     "iopub.status.busy": "2024-11-08T05:00:24.763353Z",
     "iopub.status.idle": "2024-11-08T05:00:24.771544Z",
     "shell.execute_reply": "2024-11-08T05:00:24.770292Z",
     "shell.execute_reply.started": "2024-11-08T05:00:24.763774Z"
    },
    "trusted": true
   },
   "outputs": [
    {
     "name": "stdout",
     "output_type": "stream",
     "text": [
      "Estimated portion size for food item 1: 383.67 grams\n",
      "Estimated calories for food item 1: 805.71 kcal\n"
     ]
    }
   ],
   "source": [
    "masks = outputs[\"instances\"].pred_masks.cpu().numpy()\n",
    "for i, mask in enumerate(masks):\n",
    "    portion_size_in_pixels = np.sum(mask)\n",
    "    portion_size_in_grams = portion_size_in_pixels * pixel_to_gram_ratio\n",
    "    total_calories = portion_size_in_grams * calories_per_gram_for_class\n",
    "    print(f\"Estimated portion size for food item {i+1}: {portion_size_in_grams:.2f} grams\")\n",
    "    print(f\"Estimated calories for food item {i+1}: {total_calories:.2f} kcal\")\n"
   ]
  },
  {
   "cell_type": "code",
   "execution_count": 21,
   "metadata": {
    "execution": {
     "iopub.execute_input": "2024-11-08T05:00:29.923017Z",
     "iopub.status.busy": "2024-11-08T05:00:29.922589Z",
     "iopub.status.idle": "2024-11-08T05:00:29.929181Z",
     "shell.execute_reply": "2024-11-08T05:00:29.927846Z",
     "shell.execute_reply.started": "2024-11-08T05:00:29.922977Z"
    },
    "trusted": true
   },
   "outputs": [
    {
     "name": "stdout",
     "output_type": "stream",
     "text": [
      "Predicted Food Class: Pork Chop\n"
     ]
    }
   ],
   "source": [
    "print(f\"Predicted Food Class: {predicted_class_name}\")"
   ]
  },
  {
   "cell_type": "code",
   "execution_count": 22,
   "metadata": {
    "execution": {
     "iopub.execute_input": "2024-11-08T05:00:34.426116Z",
     "iopub.status.busy": "2024-11-08T05:00:34.425626Z",
     "iopub.status.idle": "2024-11-08T05:00:34.436509Z",
     "shell.execute_reply": "2024-11-08T05:00:34.435208Z",
     "shell.execute_reply.started": "2024-11-08T05:00:34.426070Z"
    },
    "trusted": true
   },
   "outputs": [
    {
     "name": "stdout",
     "output_type": "stream",
     "text": [
      "Predicted Food Class: Pork Chop\n",
      "Estimated Portion Sizes: [383.67]\n",
      "Total Estimated Calories: 805.71 kcal\n"
     ]
    }
   ],
   "source": [
    "# Final Output for Food Name and Total Estimated Calories\n",
    "total_calories_all_portions = 0\n",
    "portion_sizes = []\n",
    "\n",
    "# Calculate total calories for each food portion\n",
    "masks = outputs[\"instances\"].pred_masks.cpu().numpy()\n",
    "for i, mask in enumerate(masks):\n",
    "    portion_size_in_pixels = np.sum(mask)\n",
    "    portion_size_in_grams = portion_size_in_pixels * pixel_to_gram_ratio\n",
    "    total_calories = portion_size_in_grams * calories_per_gram_for_class\n",
    "    portion_sizes.append(portion_size_in_grams)  # Store portion size for final output\n",
    "    total_calories_all_portions += total_calories  # Sum up total calories\n",
    "                                                                                                                                                                                                                                                                                                                                                                                                                                                                                                                                   \n",
    "# Print the final output\n",
    "print(f\"Predicted Food Class: {predicted_class_name}\")\n",
    "print(f\"Estimated Portion Sizes: {portion_sizes}\")\n",
    "print(f\"Total Estimated Calories: {total_calories_all_portions:.2f} kcal\")\n"
   ]
  },
  {
   "cell_type": "code",
   "execution_count": 21,
   "metadata": {
    "execution": {
     "iopub.execute_input": "2024-11-04T13:22:38.093755Z",
     "iopub.status.busy": "2024-11-04T13:22:38.092389Z",
     "iopub.status.idle": "2024-11-04T13:22:38.492423Z",
     "shell.execute_reply": "2024-11-04T13:22:38.491039Z",
     "shell.execute_reply.started": "2024-11-04T13:22:38.093677Z"
    },
    "trusted": true
   },
   "outputs": [
    {
     "data": {
      "image/png": "[encoded data removed]",
      "text/plain": [
       "<Figure size 1000x600 with 2 Axes>"
      ]
     },
     "metadata": {},
     "output_type": "display_data"
    }
   ],
   "source": [
    "import numpy as np\n",
    "import matplotlib.pyplot as plt\n",
    "import seaborn as sns\n",
    "from sklearn.metrics import confusion_matrix\n",
    "\n",
    "#confusion matrix\n",
    "cm = confusion_matrix(true_sizes, predicted_sizes, labels=portion_categories)\n",
    "\n",
    "# Plotting the confusion matrix\n",
    "plt.title(\"Confusion Matrix for Portion Size Categorization\")\n",
    "plt.xlabel(\"Predicted Portion Size\")\n",
    "plt.ylabel(\"True Portion Size\")\n",
    "plt.show()\n"
   ]
  },
  {
   "cell_type": "code",
   "execution_count": 26,
   "metadata": {
    "execution": {
     "iopub.execute_input": "2024-11-04T13:34:44.027167Z",
     "iopub.status.busy": "2024-11-04T13:34:44.026665Z",
     "iopub.status.idle": "2024-11-04T13:34:44.337342Z",
     "shell.execute_reply": "2024-11-04T13:34:44.336096Z",
     "shell.execute_reply.started": "2024-11-04T13:34:44.027120Z"
    },
    "trusted": true
   },
   "outputs": [
    {
     "data": {
      "image/png": "[encoded data removed]",
      "text/plain": [
       "<Figure size 1000x600 with 1 Axes>"
      ]
     },
     "metadata": {},
     "output_type": "display_data"
    }
   ],
   "source": [
    "from sklearn.metrics import roc_curve, auc\n",
    "\n",
    "# Assuming true_labels and predicted_scores are defined\n",
    "fpr, tpr, _ = roc_curve(true_labels, predicted_scores)\n",
    "roc_auc = auc(fpr, tpr)\n",
    "\n",
    "# Plot\n",
    "plt.title('Receiver Operating Characteristic (ROC) Curve')\n",
    "plt.xlabel('False Positive Rate')\n",
    "plt.ylabel('True Positive Rate')\n",
    "plt.legend()\n",
    "plt.grid()\n",
    "plt.show()\n"
   ]
  }
 ],
 "metadata": {
  "kaggle": {
   "accelerator": "none",
   "dataSources": [
    {
     "datasetId": 5965719,
     "sourceId": 9745207,
     "sourceType": "datasetVersion"
    },
    {
     "datasetId": 5967187,
     "sourceId": 9747173,
     "sourceType": "datasetVersion"
    },
    {
     "datasetId": 6036503,
     "sourceId": 9840166,
     "sourceType": "datasetVersion"
    }
   ],
   "dockerImageVersionId": 30786,
   "isGpuEnabled": false,
   "isInternetEnabled": true,
   "language": "python",
   "sourceType": "notebook"
  },
  "kernelspec": {
   "display_name": "Python 3",
   "language": "python",
   "name": "python3"
  },
  "language_info": {
   "codemirror_mode": {
    "name": "ipython",
    "version": 3
   },
   "file_extension": ".py",
   "mimetype": "text/x-python",
   "name": "python",
   "nbconvert_exporter": "python",
   "pygments_lexer": "ipython3",
   "version": "3.10.14"
  }
 },
 "nbformat": 4,
 "nbformat_minor": 4
}
