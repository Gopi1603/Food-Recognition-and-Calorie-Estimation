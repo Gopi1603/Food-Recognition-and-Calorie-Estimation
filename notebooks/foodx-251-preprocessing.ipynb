{
 "cells": [
  {
   "cell_type": "markdown",
   "id": "eede476a",
   "metadata": {
    "papermill": {
     "duration": 0.005169,
     "end_time": "2023-08-16T11:32:19.864554",
     "exception": false,
     "start_time": "2023-08-16T11:32:19.859385",
     "status": "completed"
    },
    "tags": []
   },
   "source": [
    "# Importing necessary libraries"
   ]
  },
  {
   "cell_type": "code",
   "execution_count": 1,
   "id": "0a2f7ace",
   "metadata": {
    "execution": {
     "iopub.execute_input": "2023-08-16T11:32:19.875573Z",
     "iopub.status.busy": "2023-08-16T11:32:19.874725Z",
     "iopub.status.idle": "2023-08-16T11:32:27.751903Z",
     "shell.execute_reply": "2023-08-16T11:32:27.750769Z"
    },
    "papermill": {
     "duration": 7.886301,
     "end_time": "2023-08-16T11:32:27.755185",
     "exception": false,
     "start_time": "2023-08-16T11:32:19.868884",
     "status": "completed"
    },
    "tags": []
   },
   "outputs": [],
   "source": [
    "import matplotlib.pyplot as plt\n",
    "import matplotlib.image as img\n",
    "%matplotlib inline\n",
    "import numpy as np\n",
    "from collections import defaultdict\n",
    "import collections\n",
    "import os\n",
    "import pandas as pd # data processing, CSV file I/O (e.g. pd.read_csv)\n",
    "import tensorflow as tf\n",
    "import tensorflow.keras.backend as K\n",
    "from tensorflow.keras import regularizers\n",
    "from tensorflow.keras.models import Sequential, Model\n",
    "from tensorflow.keras.layers import Dense, Dropout, Activation, Flatten,Conv2D\n",
    "from tensorflow.keras.layers import Convolution2D, MaxPooling2D, ZeroPadding2D, GlobalAveragePooling2D, AveragePooling2D\n",
    "from tensorflow.keras.preprocessing.image import ImageDataGenerator\n",
    "from tensorflow.keras.callbacks import ModelCheckpoint, CSVLogger\n",
    "from tensorflow.keras.optimizers import SGD,Adam\n",
    "from tensorflow.keras.regularizers import l2\n",
    "from tensorflow import keras\n",
    "import numpy as np\n",
    "from sklearn.metrics import classification_report,confusion_matrix"
   ]
  },
  {
   "cell_type": "markdown",
   "id": "3d541c58",
   "metadata": {
    "papermill": {
     "duration": 0.004048,
     "end_time": "2023-08-16T11:32:27.763608",
     "exception": false,
     "start_time": "2023-08-16T11:32:27.759560",
     "status": "completed"
    },
    "tags": []
   },
   "source": [
    "# Definind different parameters and data augmentation . "
   ]
  },
  {
   "cell_type": "code",
   "execution_count": 2,
   "id": "916e3e51",
   "metadata": {
    "execution": {
     "iopub.execute_input": "2023-08-16T11:32:27.773518Z",
     "iopub.status.busy": "2023-08-16T11:32:27.772815Z",
     "iopub.status.idle": "2023-08-16T11:32:27.779721Z",
     "shell.execute_reply": "2023-08-16T11:32:27.778619Z"
    },
    "papermill": {
     "duration": 0.014347,
     "end_time": "2023-08-16T11:32:27.782015",
     "exception": false,
     "start_time": "2023-08-16T11:32:27.767668",
     "status": "completed"
    },
    "tags": []
   },
   "outputs": [],
   "source": [
    "n_classes = 251\n",
    "img_width, img_height = 224,224\n",
    "train_data_dir = '/kaggle/input/251-sub-folder/subfolder/labeled_train_set'\n",
    "validation_data_dir = '/kaggle/input/251-sub-folder/subfolder/labeled_val_set'\n",
    "batch_size = 64\n",
    "train_datagen = ImageDataGenerator(\n",
    "    rescale=1. / 255,\n",
    "    shear_range=0.2,\n",
    "    zoom_range=0.2,\n",
    "    horizontal_flip=True,\n",
    "   validation_split=0.3\n",
    ")\n",
    "\n",
    "validation_datagen = ImageDataGenerator(rescale=1. / 255)\n",
    "\n",
    "\n"
   ]
  },
  {
   "cell_type": "markdown",
   "id": "722b36f4",
   "metadata": {
    "papermill": {
     "duration": 0.003815,
     "end_time": "2023-08-16T11:32:27.789805",
     "exception": false,
     "start_time": "2023-08-16T11:32:27.785990",
     "status": "completed"
    },
    "tags": []
   },
   "source": [
    "# Loading the datasets  using image-data generator .\n",
    "**we used the default split method in image-data generator to split the train_set into training and testing dataset . validation dataset was provided from the creators **"
   ]
  },
  {
   "cell_type": "code",
   "execution_count": 3,
   "id": "3b1a902d",
   "metadata": {
    "execution": {
     "iopub.execute_input": "2023-08-16T11:32:27.799494Z",
     "iopub.status.busy": "2023-08-16T11:32:27.799143Z",
     "iopub.status.idle": "2023-08-16T11:32:38.653321Z",
     "shell.execute_reply": "2023-08-16T11:32:38.652061Z"
    },
    "papermill": {
     "duration": 10.863146,
     "end_time": "2023-08-16T11:32:38.656996",
     "exception": false,
     "start_time": "2023-08-16T11:32:27.793850",
     "status": "completed"
    },
    "tags": []
   },
   "outputs": [
    {
     "name": "stdout",
     "output_type": "stream",
     "text": [
      "Found 83051 images belonging to 251 classes.\n",
      "Found 35424 images belonging to 251 classes.\n",
      "Found 11994 images belonging to 251 classes.\n"
     ]
    }
   ],
   "source": [
    "train_generator = train_datagen.flow_from_directory(train_data_dir,\n",
    "                                                    target_size=(img_width, img_width),\n",
    "                                                    batch_size=batch_size,\n",
    "                                                    shuffle=True,\n",
    "                                                    class_mode='categorical',\n",
    "                                                   subset='training')\n",
    "test_generator= train_datagen.flow_from_directory(train_data_dir,\n",
    "                                                 target_size=(img_width, img_width),\n",
    "                                                 batch_size=batch_size,\n",
    "                                                 shuffle=False,\n",
    "                                                 class_mode='categorical',\n",
    "                                                subset='validation')\n",
    "validation_generator = validation_datagen.flow_from_directory(validation_data_dir,\n",
    "                                                              target_size=(img_width, img_width),\n",
    "                                                              batch_size=batch_size,\n",
    "                                                              shuffle=False,\n",
    "                                                              class_mode='categorical'\n",
    "                                                             )"
   ]
  },
  {
   "cell_type": "markdown",
   "id": "a3649151",
   "metadata": {
    "papermill": {
     "duration": 0.009431,
     "end_time": "2023-08-16T11:32:38.679137",
     "exception": false,
     "start_time": "2023-08-16T11:32:38.669706",
     "status": "completed"
    },
    "tags": []
   },
   "source": [
    "# Importing the pre-trained res-net model from keras and freezing first 500 layers . We have decided to re-train the last few layers according to our dataset as the contain the most complex features ."
   ]
  },
  {
   "cell_type": "code",
   "execution_count": 4,
   "id": "3e2de239",
   "metadata": {
    "execution": {
     "iopub.execute_input": "2023-08-16T11:32:38.693406Z",
     "iopub.status.busy": "2023-08-16T11:32:38.692847Z",
     "iopub.status.idle": "2023-08-16T11:32:47.686595Z",
     "shell.execute_reply": "2023-08-16T11:32:47.685469Z"
    },
    "papermill": {
     "duration": 9.004167,
     "end_time": "2023-08-16T11:32:47.689529",
     "exception": false,
     "start_time": "2023-08-16T11:32:38.685362",
     "status": "completed"
    },
    "tags": []
   },
   "outputs": [
    {
     "name": "stdout",
     "output_type": "stream",
     "text": [
      "Downloading data from https://storage.googleapis.com/tensorflow/keras-applications/densenet/densenet201_weights_tf_dim_ordering_tf_kernels_notop.h5\n",
      "74836368/74836368 [==============================] - 0s 0us/step\n"
     ]
    }
   ],
   "source": [
    "resnet = tf.keras.applications.DenseNet201(weights='imagenet', include_top=False,input_shape=(img_width,img_width,3))\n",
    "# for layer in resnet.layers[:400]:\n",
    "#     layer.trainable=False"
   ]
  },
  {
   "cell_type": "markdown",
   "id": "b3e6fb47",
   "metadata": {
    "papermill": {
     "duration": 0.005013,
     "end_time": "2023-08-16T11:32:47.699997",
     "exception": false,
     "start_time": "2023-08-16T11:32:47.694984",
     "status": "completed"
    },
    "tags": []
   },
   "source": [
    "# Model Training "
   ]
  },
  {
   "cell_type": "code",
   "execution_count": 5,
   "id": "fe6908fb",
   "metadata": {
    "execution": {
     "iopub.execute_input": "2023-08-16T11:32:47.713412Z",
     "iopub.status.busy": "2023-08-16T11:32:47.712035Z",
     "iopub.status.idle": "2023-08-16T11:32:47.718994Z",
     "shell.execute_reply": "2023-08-16T11:32:47.717957Z"
    },
    "papermill": {
     "duration": 0.016088,
     "end_time": "2023-08-16T11:32:47.721445",
     "exception": false,
     "start_time": "2023-08-16T11:32:47.705357",
     "status": "completed"
    },
    "tags": []
   },
   "outputs": [],
   "source": [
    "from keras.callbacks import LearningRateScheduler\n",
    "def learning_rate_scheduler(epoch, lr):\n",
    "    initial_lr=0.00005\n",
    "    warmup_epochs = 10 # Number of epochs for warm-up\n",
    "    if epoch ==10:\n",
    "        lr = initial_lr /10\n",
    "  \n",
    "        return lr\n",
    "    else:\n",
    "        return initial_lr\n",
    "\n",
    "\n",
    "lr_scheduler = LearningRateScheduler(learning_rate_scheduler)"
   ]
  },
  {
   "cell_type": "code",
   "execution_count": 6,
   "id": "80d8558c",
   "metadata": {
    "execution": {
     "iopub.execute_input": "2023-08-16T11:32:47.733182Z",
     "iopub.status.busy": "2023-08-16T11:32:47.732856Z",
     "iopub.status.idle": "2023-08-16T20:18:14.478988Z",
     "shell.execute_reply": "2023-08-16T20:18:14.477940Z"
    },
    "papermill": {
     "duration": 31529.264453,
     "end_time": "2023-08-16T20:18:16.991208",
     "exception": false,
     "start_time": "2023-08-16T11:32:47.726755",
     "status": "completed"
    },
    "tags": []
   },
   "outputs": [
    {
     "name": "stdout",
     "output_type": "stream",
     "text": [
      "Epoch 1/20\n",
      "1297/1297 [==============================] - ETA: 0s - loss: 4.4187 - accuracy: 0.1895\n",
      "Epoch 1: val_loss improved from inf to 2.74316, saving model to ./resnet_best_model251.hdf5\n",
      "1297/1297 [==============================] - 1782s 1s/step - loss: 4.4187 - accuracy: 0.1895 - val_loss: 2.7432 - val_accuracy: 0.4512 - lr: 5.0000e-05\n",
      "Epoch 2/20\n",
      "1297/1297 [==============================] - ETA: 0s - loss: 2.9593 - accuracy: 0.4138\n",
      "Epoch 2: val_loss improved from 2.74316 to 2.21847, saving model to ./resnet_best_model251.hdf5\n",
      "1297/1297 [==============================] - 1512s 1s/step - loss: 2.9593 - accuracy: 0.4138 - val_loss: 2.2185 - val_accuracy: 0.5437 - lr: 5.0000e-05\n",
      "Epoch 3/20\n",
      "1297/1297 [==============================] - ETA: 0s - loss: 2.4443 - accuracy: 0.5073\n",
      "Epoch 3: val_loss improved from 2.21847 to 1.94374, saving model to ./resnet_best_model251.hdf5\n",
      "1297/1297 [==============================] - 1472s 1s/step - loss: 2.4443 - accuracy: 0.5073 - val_loss: 1.9437 - val_accuracy: 0.5937 - lr: 5.0000e-05\n",
      "Epoch 4/20\n",
      "1297/1297 [==============================] - ETA: 0s - loss: 2.1200 - accuracy: 0.5718\n",
      "Epoch 4: val_loss improved from 1.94374 to 1.86641, saving model to ./resnet_best_model251.hdf5\n",
      "1297/1297 [==============================] - 1524s 1s/step - loss: 2.1200 - accuracy: 0.5718 - val_loss: 1.8664 - val_accuracy: 0.6038 - lr: 5.0000e-05\n",
      "Epoch 5/20\n",
      "1297/1297 [==============================] - ETA: 0s - loss: 1.8605 - accuracy: 0.6219\n",
      "Epoch 5: val_loss did not improve from 1.86641\n",
      "1297/1297 [==============================] - 1502s 1s/step - loss: 1.8605 - accuracy: 0.6219 - val_loss: 1.8860 - val_accuracy: 0.5968 - lr: 5.0000e-05\n",
      "Epoch 6/20\n",
      "1297/1297 [==============================] - ETA: 0s - loss: 1.6406 - accuracy: 0.6643\n",
      "Epoch 6: val_loss did not improve from 1.86641\n",
      "1297/1297 [==============================] - 1522s 1s/step - loss: 1.6406 - accuracy: 0.6643 - val_loss: 1.8759 - val_accuracy: 0.6049 - lr: 5.0000e-05\n",
      "Epoch 7/20\n",
      "1297/1297 [==============================] - ETA: 0s - loss: 1.4514 - accuracy: 0.7038\n",
      "Epoch 7: val_loss improved from 1.86641 to 1.79893, saving model to ./resnet_best_model251.hdf5\n",
      "1297/1297 [==============================] - 1556s 1s/step - loss: 1.4514 - accuracy: 0.7038 - val_loss: 1.7989 - val_accuracy: 0.6212 - lr: 5.0000e-05\n",
      "Epoch 8/20\n",
      "1297/1297 [==============================] - ETA: 0s - loss: 1.2723 - accuracy: 0.7440\n",
      "Epoch 8: val_loss did not improve from 1.79893\n",
      "1297/1297 [==============================] - 1566s 1s/step - loss: 1.2723 - accuracy: 0.7440 - val_loss: 1.8224 - val_accuracy: 0.6161 - lr: 5.0000e-05\n",
      "Epoch 9/20\n",
      "1297/1297 [==============================] - ETA: 0s - loss: 1.1171 - accuracy: 0.7777\n",
      "Epoch 9: val_loss improved from 1.79893 to 1.79704, saving model to ./resnet_best_model251.hdf5\n",
      "1297/1297 [==============================] - 1555s 1s/step - loss: 1.1171 - accuracy: 0.7777 - val_loss: 1.7970 - val_accuracy: 0.6246 - lr: 5.0000e-05\n",
      "Epoch 10/20\n",
      "1297/1297 [==============================] - ETA: 0s - loss: 0.9827 - accuracy: 0.8092\n",
      "Epoch 10: val_loss did not improve from 1.79704\n",
      "1297/1297 [==============================] - 1586s 1s/step - loss: 0.9827 - accuracy: 0.8092 - val_loss: 1.8465 - val_accuracy: 0.6202 - lr: 5.0000e-05\n",
      "Epoch 11/20\n",
      "1297/1297 [==============================] - ETA: 0s - loss: 0.7481 - accuracy: 0.8713\n",
      "Epoch 11: val_loss improved from 1.79704 to 1.69813, saving model to ./resnet_best_model251.hdf5\n",
      "1297/1297 [==============================] - 1566s 1s/step - loss: 0.7481 - accuracy: 0.8713 - val_loss: 1.6981 - val_accuracy: 0.6527 - lr: 5.0000e-06\n",
      "Epoch 12/20\n",
      "1297/1297 [==============================] - ETA: 0s - loss: 0.8639 - accuracy: 0.8362\n",
      "Epoch 12: val_loss did not improve from 1.69813\n",
      "1297/1297 [==============================] - 1600s 1s/step - loss: 0.8639 - accuracy: 0.8362 - val_loss: 1.8664 - val_accuracy: 0.6222 - lr: 5.0000e-05\n",
      "Epoch 13/20\n",
      "1297/1297 [==============================] - ETA: 0s - loss: 0.7654 - accuracy: 0.8594\n",
      "Epoch 13: val_loss did not improve from 1.69813\n",
      "1297/1297 [==============================] - 1557s 1s/step - loss: 0.7654 - accuracy: 0.8594 - val_loss: 1.8959 - val_accuracy: 0.6254 - lr: 5.0000e-05\n",
      "Epoch 14/20\n",
      "1297/1297 [==============================] - ETA: 0s - loss: 0.6792 - accuracy: 0.8802\n",
      "Epoch 14: val_loss did not improve from 1.69813\n",
      "1297/1297 [==============================] - 1572s 1s/step - loss: 0.6792 - accuracy: 0.8802 - val_loss: 1.9570 - val_accuracy: 0.6124 - lr: 5.0000e-05\n",
      "Epoch 15/20\n",
      "1297/1297 [==============================] - ETA: 0s - loss: 0.6111 - accuracy: 0.8970\n",
      "Epoch 15: val_loss did not improve from 1.69813\n",
      "1297/1297 [==============================] - 1572s 1s/step - loss: 0.6111 - accuracy: 0.8970 - val_loss: 1.9886 - val_accuracy: 0.6168 - lr: 5.0000e-05\n",
      "Epoch 16/20\n",
      "1297/1297 [==============================] - ETA: 0s - loss: 0.5497 - accuracy: 0.9111\n",
      "Epoch 16: val_loss did not improve from 1.69813\n",
      "1297/1297 [==============================] - 1555s 1s/step - loss: 0.5497 - accuracy: 0.9111 - val_loss: 2.0923 - val_accuracy: 0.5998 - lr: 5.0000e-05\n",
      "Epoch 17/20\n",
      "1297/1297 [==============================] - ETA: 0s - loss: 0.5059 - accuracy: 0.9226\n",
      "Epoch 17: val_loss did not improve from 1.69813\n",
      "1297/1297 [==============================] - 1541s 1s/step - loss: 0.5059 - accuracy: 0.9226 - val_loss: 2.0502 - val_accuracy: 0.6095 - lr: 5.0000e-05\n",
      "Epoch 18/20\n",
      "1297/1297 [==============================] - ETA: 0s - loss: 0.4724 - accuracy: 0.9298\n",
      "Epoch 18: val_loss did not improve from 1.69813\n",
      "1297/1297 [==============================] - 1583s 1s/step - loss: 0.4724 - accuracy: 0.9298 - val_loss: 2.0853 - val_accuracy: 0.6089 - lr: 5.0000e-05\n",
      "Epoch 19/20\n",
      "1297/1297 [==============================] - ETA: 0s - loss: 0.4374 - accuracy: 0.9374\n",
      "Epoch 19: val_loss did not improve from 1.69813\n",
      "1297/1297 [==============================] - 1557s 1s/step - loss: 0.4374 - accuracy: 0.9374 - val_loss: 2.1361 - val_accuracy: 0.6023 - lr: 5.0000e-05\n",
      "Epoch 20/20\n",
      "1297/1297 [==============================] - ETA: 0s - loss: 0.4117 - accuracy: 0.9422\n",
      "Epoch 20: val_loss did not improve from 1.69813\n",
      "1297/1297 [==============================] - 1578s 1s/step - loss: 0.4117 - accuracy: 0.9422 - val_loss: 2.1687 - val_accuracy: 0.6022 - lr: 5.0000e-05\n"
     ]
    },
    {
     "data": {
      "text/plain": [
       "<keras.callbacks.History at 0x7fa93f58e290>"
      ]
     },
     "execution_count": 6,
     "metadata": {},
     "output_type": "execute_result"
    }
   ],
   "source": [
    "x = resnet.output\n",
    "x = GlobalAveragePooling2D()(x)\n",
    "x = Dense(300,activation='relu')(x)\n",
    "x = Dropout(0.3)(x)\n",
    "output = Dense(n_classes,kernel_regularizer=regularizers.l2(0.001), activation='softmax')(x)\n",
    "model = Model(inputs=resnet.input, outputs=output)\n",
    "model.compile(optimizer=Adam(learning_rate=0.00005), loss='categorical_crossentropy', metrics=['accuracy'])\n",
    "checkpointer = ModelCheckpoint(filepath='./resnet_best_model251.hdf5', verbose=1, save_best_only=True)\n",
    "\n",
    "model.fit(train_generator,\n",
    "        steps_per_epoch = 83051 // batch_size,\n",
    "        validation_data = validation_generator,\n",
    "        validation_steps = 11994 // batch_size,\n",
    "        epochs=20,\n",
    "        verbose=1,\n",
    "      callbacks=[ lr_scheduler,checkpointer]\n",
    "         )"
   ]
  },
  {
   "cell_type": "markdown",
   "id": "16b1b367",
   "metadata": {
    "papermill": {
     "duration": 2.033244,
     "end_time": "2023-08-16T20:18:21.219556",
     "exception": false,
     "start_time": "2023-08-16T20:18:19.186312",
     "status": "completed"
    },
    "tags": []
   },
   "source": [
    "# Test Result "
   ]
  },
  {
   "cell_type": "code",
   "execution_count": 7,
   "id": "9bab0bc3",
   "metadata": {
    "execution": {
     "iopub.execute_input": "2023-08-16T20:18:25.405583Z",
     "iopub.status.busy": "2023-08-16T20:18:25.404951Z",
     "iopub.status.idle": "2023-08-16T20:30:38.959804Z",
     "shell.execute_reply": "2023-08-16T20:30:38.958652Z"
    },
    "papermill": {
     "duration": 735.593173,
     "end_time": "2023-08-16T20:30:38.962613",
     "exception": false,
     "start_time": "2023-08-16T20:18:23.369440",
     "status": "completed"
    },
    "tags": []
   },
   "outputs": [
    {
     "name": "stdout",
     "output_type": "stream",
     "text": [
      "554/554 [==============================] - 732s 1s/step\n"
     ]
    }
   ],
   "source": [
    "y_true = test_generator.classes\n",
    "\n",
    "prediction = model.predict(test_generator)\n",
    "y_pred = np.argmax(prediction, axis=1)"
   ]
  },
  {
   "cell_type": "code",
   "execution_count": 8,
   "id": "1e4ba053",
   "metadata": {
    "execution": {
     "iopub.execute_input": "2023-08-16T20:30:43.164281Z",
     "iopub.status.busy": "2023-08-16T20:30:43.163176Z",
     "iopub.status.idle": "2023-08-16T20:30:44.038108Z",
     "shell.execute_reply": "2023-08-16T20:30:44.037031Z"
    },
    "papermill": {
     "duration": 3.029807,
     "end_time": "2023-08-16T20:30:44.041663",
     "exception": false,
     "start_time": "2023-08-16T20:30:41.011856",
     "status": "completed"
    },
    "tags": []
   },
   "outputs": [
    {
     "name": "stdout",
     "output_type": "stream",
     "text": [
      "                               precision    recall  f1-score   support\n",
      "\n",
      "                        adobo       0.35      0.48      0.41       181\n",
      "                ambrosia_food       0.31      0.45      0.37       132\n",
      "                    apple_pie       0.69      0.73      0.71       161\n",
      "               apple_turnover       0.37      0.20      0.26       152\n",
      "                   applesauce       0.57      0.35      0.44       147\n",
      "              applesauce_cake       0.47      0.37      0.41       120\n",
      "                baby_back_rib       0.40      0.59      0.48       175\n",
      "               bacon_and_eggs       0.56      0.62      0.59       102\n",
      "bacon_lettuce_tomato_sandwich       0.73      0.83      0.78       180\n",
      "                 baked_alaska       0.42      0.54      0.47       164\n",
      "                      baklava       0.51      0.45      0.48        86\n",
      "          barbecued_spareribs       0.54      0.66      0.60       136\n",
      "               barbecued_wing       0.67      0.50      0.57       152\n",
      "           beef_bourguignonne       0.47      0.52      0.49       183\n",
      "               beef_carpaccio       0.45      0.54      0.49       102\n",
      "              beef_stroganoff       0.43      0.64      0.51       131\n",
      "                 beef_tartare       0.87      0.50      0.63       143\n",
      "              beef_wellington       0.55      0.54      0.54       143\n",
      "                   beet_salad       0.61      0.70      0.65       173\n",
      "                      beignet       0.85      0.64      0.73       160\n",
      "                     bibimbap       0.63      0.36      0.46       139\n",
      "                      biryani       0.27      0.34      0.30       150\n",
      "                   blancmange       0.60      0.47      0.53       159\n",
      "                   boiled_egg       0.70      0.80      0.75       135\n",
      "             boston_cream_pie       0.81      0.64      0.71       160\n",
      "                bread_pudding       0.88      0.76      0.82       136\n",
      "                      brisket       0.69      0.72      0.70       163\n",
      "                   bruschetta       0.84      0.73      0.78       116\n",
      "            bubble_and_squeak       0.71      0.59      0.64       165\n",
      "                 buffalo_wing       0.41      0.54      0.46       177\n",
      "                      burrito       0.73      0.68      0.70       151\n",
      "                 caesar_salad       0.58      0.50      0.54       104\n",
      "                   cannelloni       0.38      0.23      0.29       117\n",
      "                      cannoli       0.65      0.25      0.36       172\n",
      "                caprese_salad       0.71      0.62      0.66       151\n",
      "          carbonnade_flamande       0.51      0.64      0.57       149\n",
      "                  carrot_cake       0.51      0.55      0.53       157\n",
      "                    casserole       0.45      0.35      0.40       128\n",
      "                      ceviche       0.82      0.82      0.82       153\n",
      "                   cheesecake       0.69      0.76      0.72       132\n",
      "          chicken_cordon_bleu       0.66      0.74      0.70       114\n",
      "                chicken_curry       0.74      0.89      0.81       147\n",
      "                 chicken_kiev       0.61      0.52      0.56       157\n",
      "              chicken_marengo       0.63      0.68      0.66       157\n",
      "           chicken_provencale       0.52      0.79      0.63       177\n",
      "           chicken_quesadilla       0.37      0.68      0.48       135\n",
      "                 chicken_wing       0.57      0.47      0.52       156\n",
      "                 chiffon_cake       0.71      0.60      0.65       106\n",
      "                        chili       0.53      0.43      0.47       183\n",
      "               chocolate_cake       0.44      0.66      0.52       153\n",
      "             chocolate_mousse       0.70      0.47      0.56       149\n",
      "                    chop_suey       0.50      0.43      0.46       136\n",
      "                    chow_mein       0.63      0.60      0.61       157\n",
      "                       churro       0.06      0.04      0.05       112\n",
      "                 clam_chowder       0.60      0.60      0.60       179\n",
      "                    clam_food       0.51      0.59      0.55       130\n",
      "                club_sandwich       0.62      0.70      0.66       137\n",
      "                  cockle_food       0.64      0.59      0.62       128\n",
      "                 coconut_cake       0.29      0.24      0.26       118\n",
      "                  coffee_cake       0.59      0.79      0.68       129\n",
      "                      compote       0.49      0.45      0.47       121\n",
      "                       confit       0.61      0.61      0.61       146\n",
      "                   coq_au_vin       0.74      0.67      0.70       156\n",
      "      coquilles_saint_jacques       0.61      0.66      0.64       160\n",
      "                  cottage_pie       0.55      0.37      0.44       138\n",
      "                     couscous       0.57      0.67      0.62       138\n",
      "                    crab_cake       0.36      0.41      0.38       117\n",
      "                    crab_food       0.51      0.51      0.51       148\n",
      "                crayfish_food       0.49      0.37      0.42       168\n",
      "                 creme_brulee       0.65      0.61      0.63       115\n",
      "                croque_madame       0.66      0.59      0.62       132\n",
      "                    croquette       0.37      0.36      0.37       135\n",
      "                      cruller       0.33      0.54      0.41       102\n",
      "                   crumb_cake       0.60      0.57      0.58       122\n",
      "                      crumpet       0.47      0.36      0.41       156\n",
      "                      cupcake       0.50      0.28      0.36       185\n",
      "                      custard       0.49      0.66      0.56       156\n",
      "                  deviled_egg       0.48      0.60      0.53       159\n",
      "                       dolmas       0.82      0.75      0.78       138\n",
      "                        donut       0.62      0.45      0.52       139\n",
      "                     dumpling       0.62      0.83      0.71       141\n",
      "                  eccles_cake       0.60      0.55      0.58       152\n",
      "                      edamame       0.53      0.51      0.52       137\n",
      "                     egg_roll       0.39      0.69      0.50       131\n",
      "                eggs_benedict       0.53      0.61      0.57       119\n",
      "                    enchilada       0.54      0.35      0.42       113\n",
      "                    entrecote       0.57      0.67      0.61       112\n",
      "                     escargot       0.33      0.47      0.39       155\n",
      "                      falafel       0.34      0.20      0.25       132\n",
      "                     farfalle       0.31      0.32      0.31       190\n",
      "                   fettuccine       0.61      0.56      0.59       134\n",
      "                 filet_mignon       0.77      0.67      0.72        96\n",
      "               fish_and_chips       0.61      0.49      0.54       104\n",
      "                   fish_stick       0.44      0.32      0.37       138\n",
      "                         flan       0.23      0.22      0.22       139\n",
      "                    foie_gras       0.33      0.67      0.44       150\n",
      "                       fondue       0.55      0.63      0.59       161\n",
      "                 french_fries       0.77      0.67      0.72       143\n",
      "            french_onion_soup       0.25      0.31      0.28       152\n",
      "                 french_toast       0.70      0.49      0.57       127\n",
      "               fried_calamari       0.48      0.42      0.45       196\n",
      "                    fried_egg       0.61      0.46      0.52       118\n",
      "                   fried_rice       0.44      0.28      0.34        95\n",
      "                     frittata       0.61      0.50      0.55       127\n",
      "                      fritter       0.71      0.60      0.65       126\n",
      "                frozen_yogurt       0.61      0.69      0.65       144\n",
      "                    fruitcake       0.62      0.64      0.63       153\n",
      "                    galantine       0.41      0.31      0.35       126\n",
      "                 garlic_bread       0.35      0.46      0.40       152\n",
      "                  gingerbread       0.70      0.65      0.68       161\n",
      "                      gnocchi       0.69      0.61      0.65        97\n",
      "                  greek_salad       0.35      0.29      0.32       116\n",
      "      grilled_cheese_sandwich       0.64      0.79      0.71       174\n",
      "               grilled_salmon       0.52      0.46      0.48       145\n",
      "                    guacamole       0.59      0.56      0.58       147\n",
      "                        gyoza       0.49      0.44      0.47       180\n",
      "                         gyro       0.38      0.43      0.41       163\n",
      "                       haggis       0.60      0.39      0.47       110\n",
      "                 ham_and_eggs       0.76      0.45      0.56       119\n",
      "                 ham_sandwich       0.74      0.57      0.64       112\n",
      "                    hamburger       0.45      0.46      0.45       164\n",
      "            hot_and_sour_soup       0.30      0.36      0.33       162\n",
      "                      hot_dog       0.64      0.51      0.57       170\n",
      "             huevos_rancheros       0.54      0.63      0.59       125\n",
      "                       huitre       0.47      0.47      0.47       118\n",
      "                       hummus       0.49      0.75      0.59       158\n",
      "                    ice_cream       0.39      0.32      0.35       149\n",
      "                    jambalaya       0.69      0.51      0.59       164\n",
      "                        jerky       0.63      0.40      0.49        97\n",
      "                        kabob       0.81      0.64      0.72       134\n",
      "                     kedgeree       0.68      0.58      0.62       116\n",
      "                        knish       0.60      0.64      0.62       151\n",
      "                      lasagna       0.47      0.64      0.54       123\n",
      "                  limpet_food       0.50      0.63      0.56       139\n",
      "                     linguine       0.71      0.36      0.48       126\n",
      "               lobster_bisque       0.66      0.57      0.61       146\n",
      "                 lobster_food       0.53      0.38      0.44       126\n",
      "        lobster_roll_sandwich       0.28      0.23      0.25       149\n",
      "            lobster_thermidor       0.51      0.74      0.61       107\n",
      "                     lutefisk       0.41      0.52      0.46       122\n",
      "                      macaron       0.86      0.81      0.84       189\n",
      "          macaroni_and_cheese       0.57      0.67      0.61       136\n",
      "                    manicotti       0.72      0.54      0.62       142\n",
      "                  marble_cake       0.54      0.49      0.51       151\n",
      "                   matzo_ball       0.79      0.70      0.74       156\n",
      "               meat_loaf_food       0.68      0.69      0.68       106\n",
      "                     meatball       0.47      0.48      0.47       162\n",
      "                    miso_soup       0.56      0.47      0.51       124\n",
      "              moo_goo_gai_pan       0.63      0.78      0.70       125\n",
      "                  mostaccioli       0.60      0.58      0.59       141\n",
      "                     moussaka       0.43      0.52      0.47       137\n",
      "                       mussel       0.51      0.62      0.55       164\n",
      "                        nacho       0.72      0.50      0.59       117\n",
      "                     omelette       0.66      0.52      0.58       125\n",
      "                  onion_rings       0.82      0.56      0.67       139\n",
      "                         orzo       0.49      0.49      0.49       140\n",
      "                    osso_buco       0.54      0.34      0.42       173\n",
      "                       oyster       0.81      0.84      0.83       172\n",
      "                     pad_thai       0.36      0.38      0.37       183\n",
      "                       paella       0.46      0.43      0.44       134\n",
      "                      pancake       0.36      0.22      0.27       162\n",
      "                  panna_cotta       0.38      0.36      0.37       109\n",
      "                         pate       0.18      0.34      0.23       156\n",
      "                      pavlova       0.75      0.58      0.65       190\n",
      "                  peach_melba       0.37      0.25      0.30       142\n",
      "                  peking_duck       0.59      0.45      0.51       136\n",
      "                        penne       0.49      0.63      0.55       139\n",
      "                 pepper_steak       0.70      0.75      0.73       167\n",
      "                          pho       0.52      0.67      0.59       177\n",
      "                        pilaf       0.76      0.66      0.71       167\n",
      "                       pirogi       0.42      0.35      0.38       129\n",
      "                        pizza       0.59      0.59      0.59       182\n",
      "                  poached_egg       0.37      0.29      0.32       108\n",
      "                          poi       0.42      0.46      0.44       136\n",
      "                    pork_chop       0.40      0.31      0.35       116\n",
      "                     porridge       0.65      0.62      0.63       172\n",
      "                       potpie       0.54      0.66      0.59       154\n",
      "                   pound_cake       0.46      0.50      0.48       135\n",
      "                      poutine       0.57      0.43      0.49       181\n",
      "                    prime_rib       0.50      0.79      0.61       150\n",
      "                  profiterole       0.55      0.67      0.61       123\n",
      "         pulled_pork_sandwich       0.44      0.48      0.46       123\n",
      "                        ramen       0.28      0.31      0.29       168\n",
      "                      ravioli       0.51      0.40      0.44       111\n",
      "              red_velvet_cake       0.62      0.52      0.56       135\n",
      "                       reuben       0.61      0.28      0.38       155\n",
      "                     rigatoni       0.63      0.63      0.63       130\n",
      "                      risotto       0.34      0.38      0.36       132\n",
      "                      rissole       0.40      0.25      0.30       154\n",
      "                    rock_cake       0.85      0.70      0.77       114\n",
      "                      roulade       0.57      0.56      0.57       165\n",
      "                      rugulah       0.87      0.70      0.78       148\n",
      "              salisbury_steak       0.41      0.54      0.46       135\n",
      "                       samosa       0.74      0.63      0.68       158\n",
      "                      sashimi       0.39      0.50      0.44       147\n",
      "                  sauerbraten       0.70      0.75      0.73       151\n",
      "                   sauerkraut       0.60      0.78      0.68        93\n",
      "                 sausage_roll       0.48      0.49      0.48       176\n",
      "                      savarin       0.58      0.58      0.58       161\n",
      "                      scallop       0.74      0.44      0.55       154\n",
      "                       scampi       0.52      0.44      0.48       156\n",
      "                    schnitzel       0.36      0.12      0.18        83\n",
      "                   scotch_egg       0.36      0.18      0.24        87\n",
      "               scrambled_eggs       0.60      0.38      0.47       170\n",
      "                     scrapple       0.49      0.65      0.56       127\n",
      "                seaweed_salad       0.79      0.52      0.62       153\n",
      "                  shirred_egg       0.52      0.69      0.59       127\n",
      "             shrimp_and_grits       0.31      0.45      0.37       174\n",
      "                   sloppy_joe       0.54      0.28      0.37       165\n",
      "                      souffle       0.49      0.58      0.53       135\n",
      "          spaghetti_bolognese       0.62      0.57      0.59       168\n",
      "          spaghetti_carbonara       0.45      0.62      0.52       184\n",
      "                  sponge_cake       0.51      0.61      0.56       153\n",
      "                  spring_roll       0.35      0.48      0.41       153\n",
      "              steak_au_poivre       0.63      0.64      0.63       129\n",
      "                steak_tartare       0.68      0.85      0.75       138\n",
      "         strawberry_shortcake       0.32      0.47      0.38       176\n",
      "                     streusel       0.69      0.63      0.66       180\n",
      "                      strudel       0.40      0.25      0.30       118\n",
      "              stuffed_cabbage       0.49      0.73      0.59       128\n",
      "              stuffed_peppers       0.51      0.57      0.54       138\n",
      "               stuffed_tomato       0.43      0.30      0.35        97\n",
      "                    succotash       0.62      0.64      0.63       129\n",
      "                     sukiyaki       0.14      0.10      0.12        10\n",
      "                        sushi       0.69      0.76      0.73       131\n",
      "                     syllabub       0.38      0.50      0.43       132\n",
      "                         taco       0.48      0.56      0.52       163\n",
      "                  tagliatelle       0.50      0.75      0.60       154\n",
      "                     takoyaki       0.65      0.77      0.70       140\n",
      "                       tamale       0.51      0.42      0.46       175\n",
      "                   tamale_pie       0.46      0.36      0.40       161\n",
      "                     tapenade       0.55      0.63      0.59       138\n",
      "                      tempura       0.41      0.41      0.41        96\n",
      "                   tenderloin       0.85      0.73      0.79       144\n",
      "                      terrine       0.69      0.66      0.68       131\n",
      "                   tetrazzini       0.75      0.65      0.70       155\n",
      "                     tiramisu       0.49      0.54      0.51       162\n",
      "             toad_in_the_hole       0.80      0.54      0.65       145\n",
      "                        torte       0.60      0.73      0.66       162\n",
      "                   tortellini       0.42      0.53      0.47       116\n",
      "                      tostada       0.61      0.39      0.48        90\n",
      "                 tuna_tartare       0.61      0.42      0.50        98\n",
      "             upside_down_cake       0.50      0.62      0.55       111\n",
      "             veal_cordon_bleu       0.48      0.31      0.38       146\n",
      "                   vermicelli       0.66      0.57      0.61        99\n",
      "            victoria_sandwich       0.49      0.48      0.48       107\n",
      "                  vol_au_vent       0.44      0.59      0.51       177\n",
      "                       waffle       0.39      0.25      0.30       122\n",
      "                welsh_rarebit       0.43      0.60      0.50       129\n",
      "                       wonton       0.56      0.62      0.59       106\n",
      "                         ziti       0.49      0.52      0.50       138\n",
      "\n",
      "                     accuracy                           0.54     35424\n",
      "                    macro avg       0.55      0.53      0.53     35424\n",
      "                 weighted avg       0.55      0.54      0.53     35424\n",
      "\n"
     ]
    }
   ],
   "source": [
    "\n",
    "label_map = {}\n",
    "with open('/kaggle/input/ifood-2019-fgvc6/class_list.txt', 'r') as f:\n",
    "    for line in f:\n",
    "        numerical_label, actual_label = line.strip().split()\n",
    "        label_map[int(numerical_label)] = actual_label\n",
    "\n",
    "# Convert numerical labels to actual labels\n",
    "y_true = [label_map[label] for label in y_true]\n",
    "y_pred = [label_map[label] for label in y_pred]\n",
    "\n",
    "# Generate the classification report\n",
    "report = classification_report(y_true, y_pred,zero_division=1)\n",
    "\n",
    "\n",
    "\n",
    "print(report)"
   ]
  }
 ],
 "metadata": {
  "kernelspec": {
   "display_name": "Python 3",
   "language": "python",
   "name": "python3"
  },
  "language_info": {
   "codemirror_mode": {
    "name": "ipython",
    "version": 3
   },
   "file_extension": ".py",
   "mimetype": "text/x-python",
   "name": "python",
   "nbconvert_exporter": "python",
   "pygments_lexer": "ipython3",
   "version": "3.7.12"
  },
  "papermill": {
   "default_parameters": {},
   "duration": 32320.639663,
   "end_time": "2023-08-16T20:30:49.805408",
   "environment_variables": {},
   "exception": null,
   "input_path": "__notebook__.ipynb",
   "output_path": "__notebook__.ipynb",
   "parameters": {},
   "start_time": "2023-08-16T11:32:09.165745",
   "version": "2.4.0"
  }
 },
 "nbformat": 4,
 "nbformat_minor": 5
}
