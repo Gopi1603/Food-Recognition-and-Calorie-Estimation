{
  "nbformat": 4,
  "nbformat_minor": 0,
  "metadata": {
    "colab": {
      "provenance": []
    },
    "kernelspec": {
      "name": "python3",
      "display_name": "Python 3"
    },
    "language_info": {
      "name": "python"
    }
  },
  "cells": [
    {
      "cell_type": "code",
      "execution_count": null,
      "metadata": {
        "id": "ZXHGJ8dI5Vnn"
      },
      "outputs": [],
      "source": [
        "from google.colab import drive\n",
        "drive.mount('/content/drive')"
      ]
    },
    {
      "cell_type": "markdown",
      "source": [
        " creating a final pipeline to take a new food image as input, passing it through ViT for food recognition, then we apply Mask R-CNN for portion estimation, and finally output the estimated calorie count.\n",
        "\n",
        "\n",
        "Testing: Run our system on a range of food images to evaluate accuracy and portion estimation consistency. *italicized text*"
      ],
      "metadata": {
        "id": "OlP6m-tm5qf7"
      }
    },
    {
      "cell_type": "markdown",
      "source": [
        "# **1. Input: Food Image**"
      ],
      "metadata": {
        "id": "CUQhvqCu6Jum"
      }
    },
    {
      "cell_type": "markdown",
      "source": [
        "Process: The pipeline starts by taking a single 2D food image as input.\n",
        "\n",
        "Expected Outcome: The system will first recognize the type of food in the image, then estimate its portion size, and finally predict the calories based on the estimated portion size and the food type."
      ],
      "metadata": {
        "id": "j9kvcV4T6N0D"
      }
    },
    {
      "cell_type": "markdown",
      "source": [
        "# **Food Recognition Using Vision Transformer (ViT)**"
      ],
      "metadata": {
        "id": "eeK8bX6s6PMy"
      }
    },
    {
      "cell_type": "markdown",
      "source": [
        "Step 1: Load and Fine-Tune ViT\n",
        "\n",
        "Task: You will use a pre-trained ViT model for food\n",
        " classification.\n",
        " The model has been fine-tuned to recognize 251\n",
        "  different food categories.\n",
        "\n",
        "\n",
        "Input: A food image from the dataset.\n",
        "\n",
        "\n",
        "Output: The predicted food class (out of 251 possible classes) is returned, e.g., \"Pizza.\""
      ],
      "metadata": {
        "id": "2C3SFWqT6SZi"
      }
    },
    {
      "cell_type": "code",
      "source": [
        "# ViT is fine-tuned and ready for inference\n",
        "vit_model = load_finetuned_vit()  # Placeholder for loading the fine-tuned ViT model\n",
        "\n",
        "# Passing the input food image for prediction\n",
        "predicted_class = vit_model.predict(food_image)  # Returns class index,like 101 for \"Pizza\"\n",
        "predicted_class_name = class_dict[predicted_class]  # Converting to readable class name\n",
        "print(f\"Predicted Food Class: {predicted_class_name}\")\n"
      ],
      "metadata": {
        "id": "6_3gQfzn6fRN"
      },
      "execution_count": null,
      "outputs": []
    },
    {
      "cell_type": "markdown",
      "source": [
        "# **Step 2: Retrieve Calorie Information for the Predicted Class**"
      ],
      "metadata": {
        "id": "o1TpCgqs6iS-"
      }
    },
    {
      "cell_type": "markdown",
      "source": [
        "Task: Retrieve the manually assigned calorie-per-gram value for the predicted food class.\n",
        "\n",
        "Example:\n",
        "\n",
        "Pizza: 2.8 kcal/gram\n",
        "\n",
        "Salad: 0.5 kcal/gram"
      ],
      "metadata": {
        "id": "Q_R7oB5G6lO8"
      }
    },
    {
      "cell_type": "code",
      "source": [
        "#testin purpose dont compile this\n",
        "\n",
        "# Manually defined calorie density for each food class (example values)\n",
        "calories_per_gram = {\n",
        "    \"Pizza\": 2.8,\n",
        "    \"Salad\": 0.5,\n",
        "    # sample test purspose we have food_estimation.csv\n",
        "}\n",
        "\n",
        "# Get the calorie density for the predicted class\n",
        "calories_per_gram_for_class = calories_per_gram[predicted_class_name]\n",
        "print(f\"Calories per gram for {predicted_class_name}: {calories_per_gram_for_class} kcal/gram\")\n"
      ],
      "metadata": {
        "id": "e7-sk91C6rPG"
      },
      "execution_count": null,
      "outputs": []
    },
    {
      "cell_type": "markdown",
      "source": [
        "# **3. Portion Estimation Using Mask R-CNN**"
      ],
      "metadata": {
        "id": "1mki07Gk6tt5"
      }
    },
    {
      "cell_type": "markdown",
      "source": [
        "Step 3: Load and Initialize Mask R-CNN\n",
        "\n",
        "Task: Perform image segmentation on the input image to isolate the\n",
        "food portions. Use the Mask R-CNN model to detect and segment the\n",
        "portions of food within the image.\n",
        "\n",
        "Input: The same food image as used in ViT.\n",
        "\n",
        "Output: Segmentation masks showing different portions of the food."
      ],
      "metadata": {
        "id": "uPbVpok56vDW"
      }
    },
    {
      "cell_type": "code",
      "source": [
        "# Use the Mask R-CNN predictor for portion segmentation\n",
        "outputs = predictor(food_image)  # Returns masks for food portions\n",
        "\n",
        "# Visualize segmented portions (optional)\n",
        "v = Visualizer(food_image[:, :, ::-1])\n",
        "segmented_output = v.draw_instance_predictions(outputs[\"instances\"].to(\"cpu\")).get_image()[:, :, ::-1]\n",
        "cv2.imshow(\"Segmented Food Portions\", segmented_output)\n"
      ],
      "metadata": {
        "id": "qSoE8VEd6-PC"
      },
      "execution_count": null,
      "outputs": []
    },
    {
      "cell_type": "markdown",
      "source": [
        "# **4. Calorie Estimation**"
      ],
      "metadata": {
        "id": "wu51798u7AhK"
      }
    },
    {
      "cell_type": "markdown",
      "source": [
        "Step 5: Calculate Total Calories\n",
        "\n",
        "Task: Multiply the estimated portion size (in grams) by the calories per gram of the predicted food class to estimate the total calories for each food portion.\n",
        "\n",
        "\n",
        "Example:\n",
        "\n",
        "For example, if:\n",
        "\n",
        "The portion size is estimated to be 150 grams,\n",
        "\n",
        "The predicted food is Pizza, which has 2.8 kcal/gram,\n",
        "\n",
        "Then the total calories would be:\n",
        "\n",
        "150 grams x 2.8 kcal/gram = 420 kcal."
      ],
      "metadata": {
        "id": "QrsE5i247ESL"
      }
    },
    {
      "cell_type": "code",
      "source": [
        "# Calculate total calories for each food portion\n",
        "for i, mask in enumerate(outputs[\"instances\"].pred_masks.cpu().numpy()):\n",
        "    portion_size_in_pixels = np.sum(mask)\n",
        "    portion_size_in_grams = portion_size_in_pixels * pixel_to_gram_ratio\n",
        "\n",
        "    # Calculate the total calories for this portion\n",
        "    total_calories = portion_size_in_grams * calories_per_gram_for_class\n",
        "    print(f\"Estimated calories for portion {i+1}: {total_calories:.2f} kcal\")\n"
      ],
      "metadata": {
        "id": "NHxQic5p7Mpj"
      },
      "execution_count": null,
      "outputs": []
    },
    {
      "cell_type": "markdown",
      "source": [
        "# **5. Output: Total Calorie Estimation**"
      ],
      "metadata": {
        "id": "z-4Ly_r77QvB"
      }
    },
    {
      "cell_type": "markdown",
      "source": [
        "After calculating the portion sizes and total calories, the system\n",
        "\n",
        "outputs:\n",
        "Predicted food class (e.g., Pizza),\n",
        "\n",
        "Estimated portion size (e.g., 150 grams),\n",
        "\n",
        "Estimated total calories (e.g., 420 kcal).\n",
        "\n",
        "\n",
        "This information can be used to provide detailed food and calorie insights to the user."
      ],
      "metadata": {
        "id": "Lf80dOoa7SJF"
      }
    },
    {
      "cell_type": "markdown",
      "source": [
        "Predicted Food Class: Pizza\n",
        "Estimated Portion Size: 150 grams\n",
        "Estimated Calories: 420 kcal\n"
      ],
      "metadata": {
        "id": "GztkYD2X7grt"
      }
    }
  ]
}